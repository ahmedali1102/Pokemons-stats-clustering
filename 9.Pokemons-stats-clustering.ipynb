{
 "cells": [
  {
   "cell_type": "code",
   "execution_count": 1,
   "id": "307e9fd7",
   "metadata": {
    "_cell_guid": "b1076dfc-b9ad-4769-8c92-a6c4dae69d19",
    "_uuid": "8f2839f25d086af736a60e9eeb907d3b93b6e0e5",
    "execution": {
     "iopub.execute_input": "2021-06-21T02:28:15.366991Z",
     "iopub.status.busy": "2021-06-21T02:28:15.366342Z",
     "iopub.status.idle": "2021-06-21T02:28:16.802618Z",
     "shell.execute_reply": "2021-06-21T02:28:16.801459Z",
     "shell.execute_reply.started": "2021-06-21T02:27:47.051863Z"
    },
    "papermill": {
     "duration": 1.462742,
     "end_time": "2021-06-21T02:28:16.802921",
     "exception": false,
     "start_time": "2021-06-21T02:28:15.340179",
     "status": "completed"
    },
    "tags": []
   },
   "outputs": [],
   "source": [
    "import os\n",
    "import cv2\n",
    "import random\n",
    "import numpy as np\n",
    "import pandas as pd\n",
    "import seaborn as sns\n",
    "import matplotlib.pyplot as plt\n",
    "%matplotlib inline\n",
    "\n",
    "from scipy.cluster.hierarchy import linkage, dendrogram\n",
    "from sklearn.cluster import KMeans, AgglomerativeClustering, AffinityPropagation\n",
    "from sklearn.mixture import GaussianMixture "
   ]
  },
  {
   "cell_type": "code",
   "execution_count": 2,
   "id": "5e40a73c",
   "metadata": {
    "_cell_guid": "79c7e3d0-c299-4dcb-8224-4455121ee9b0",
    "_uuid": "d629ff2d2480ee46fbb7e2d37f6b5fab8052498a",
    "execution": {
     "iopub.execute_input": "2021-06-21T02:28:16.853609Z",
     "iopub.status.busy": "2021-06-21T02:28:16.852705Z",
     "iopub.status.idle": "2021-06-21T02:28:16.898859Z",
     "shell.execute_reply": "2021-06-21T02:28:16.899397Z",
     "shell.execute_reply.started": "2021-06-21T02:27:47.059389Z"
    },
    "papermill": {
     "duration": 0.074159,
     "end_time": "2021-06-21T02:28:16.899566",
     "exception": false,
     "start_time": "2021-06-21T02:28:16.825407",
     "status": "completed"
    },
    "tags": []
   },
   "outputs": [
    {
     "data": {
      "text/html": [
       "<div>\n",
       "<style scoped>\n",
       "    .dataframe tbody tr th:only-of-type {\n",
       "        vertical-align: middle;\n",
       "    }\n",
       "\n",
       "    .dataframe tbody tr th {\n",
       "        vertical-align: top;\n",
       "    }\n",
       "\n",
       "    .dataframe thead th {\n",
       "        text-align: right;\n",
       "    }\n",
       "</style>\n",
       "<table border=\"1\" class=\"dataframe\">\n",
       "  <thead>\n",
       "    <tr style=\"text-align: right;\">\n",
       "      <th></th>\n",
       "      <th>#</th>\n",
       "      <th>Name</th>\n",
       "      <th>Type 1</th>\n",
       "      <th>Type 2</th>\n",
       "      <th>Total</th>\n",
       "      <th>HP</th>\n",
       "      <th>Attack</th>\n",
       "      <th>Defense</th>\n",
       "      <th>Sp. Atk</th>\n",
       "      <th>Sp. Def</th>\n",
       "      <th>Speed</th>\n",
       "      <th>Generation</th>\n",
       "      <th>Legendary</th>\n",
       "    </tr>\n",
       "  </thead>\n",
       "  <tbody>\n",
       "    <tr>\n",
       "      <th>0</th>\n",
       "      <td>1</td>\n",
       "      <td>Bulbasaur</td>\n",
       "      <td>Grass</td>\n",
       "      <td>Poison</td>\n",
       "      <td>318</td>\n",
       "      <td>45</td>\n",
       "      <td>49</td>\n",
       "      <td>49</td>\n",
       "      <td>65</td>\n",
       "      <td>65</td>\n",
       "      <td>45</td>\n",
       "      <td>1</td>\n",
       "      <td>False</td>\n",
       "    </tr>\n",
       "    <tr>\n",
       "      <th>1</th>\n",
       "      <td>2</td>\n",
       "      <td>Ivysaur</td>\n",
       "      <td>Grass</td>\n",
       "      <td>Poison</td>\n",
       "      <td>405</td>\n",
       "      <td>60</td>\n",
       "      <td>62</td>\n",
       "      <td>63</td>\n",
       "      <td>80</td>\n",
       "      <td>80</td>\n",
       "      <td>60</td>\n",
       "      <td>1</td>\n",
       "      <td>False</td>\n",
       "    </tr>\n",
       "    <tr>\n",
       "      <th>2</th>\n",
       "      <td>3</td>\n",
       "      <td>Venusaur</td>\n",
       "      <td>Grass</td>\n",
       "      <td>Poison</td>\n",
       "      <td>525</td>\n",
       "      <td>80</td>\n",
       "      <td>82</td>\n",
       "      <td>83</td>\n",
       "      <td>100</td>\n",
       "      <td>100</td>\n",
       "      <td>80</td>\n",
       "      <td>1</td>\n",
       "      <td>False</td>\n",
       "    </tr>\n",
       "    <tr>\n",
       "      <th>3</th>\n",
       "      <td>3</td>\n",
       "      <td>VenusaurMega Venusaur</td>\n",
       "      <td>Grass</td>\n",
       "      <td>Poison</td>\n",
       "      <td>625</td>\n",
       "      <td>80</td>\n",
       "      <td>100</td>\n",
       "      <td>123</td>\n",
       "      <td>122</td>\n",
       "      <td>120</td>\n",
       "      <td>80</td>\n",
       "      <td>1</td>\n",
       "      <td>False</td>\n",
       "    </tr>\n",
       "    <tr>\n",
       "      <th>4</th>\n",
       "      <td>4</td>\n",
       "      <td>Charmander</td>\n",
       "      <td>Fire</td>\n",
       "      <td>NaN</td>\n",
       "      <td>309</td>\n",
       "      <td>39</td>\n",
       "      <td>52</td>\n",
       "      <td>43</td>\n",
       "      <td>60</td>\n",
       "      <td>50</td>\n",
       "      <td>65</td>\n",
       "      <td>1</td>\n",
       "      <td>False</td>\n",
       "    </tr>\n",
       "    <tr>\n",
       "      <th>5</th>\n",
       "      <td>5</td>\n",
       "      <td>Charmeleon</td>\n",
       "      <td>Fire</td>\n",
       "      <td>NaN</td>\n",
       "      <td>405</td>\n",
       "      <td>58</td>\n",
       "      <td>64</td>\n",
       "      <td>58</td>\n",
       "      <td>80</td>\n",
       "      <td>65</td>\n",
       "      <td>80</td>\n",
       "      <td>1</td>\n",
       "      <td>False</td>\n",
       "    </tr>\n",
       "    <tr>\n",
       "      <th>6</th>\n",
       "      <td>6</td>\n",
       "      <td>Charizard</td>\n",
       "      <td>Fire</td>\n",
       "      <td>Flying</td>\n",
       "      <td>534</td>\n",
       "      <td>78</td>\n",
       "      <td>84</td>\n",
       "      <td>78</td>\n",
       "      <td>109</td>\n",
       "      <td>85</td>\n",
       "      <td>100</td>\n",
       "      <td>1</td>\n",
       "      <td>False</td>\n",
       "    </tr>\n",
       "    <tr>\n",
       "      <th>7</th>\n",
       "      <td>6</td>\n",
       "      <td>CharizardMega Charizard X</td>\n",
       "      <td>Fire</td>\n",
       "      <td>Dragon</td>\n",
       "      <td>634</td>\n",
       "      <td>78</td>\n",
       "      <td>130</td>\n",
       "      <td>111</td>\n",
       "      <td>130</td>\n",
       "      <td>85</td>\n",
       "      <td>100</td>\n",
       "      <td>1</td>\n",
       "      <td>False</td>\n",
       "    </tr>\n",
       "    <tr>\n",
       "      <th>8</th>\n",
       "      <td>6</td>\n",
       "      <td>CharizardMega Charizard Y</td>\n",
       "      <td>Fire</td>\n",
       "      <td>Flying</td>\n",
       "      <td>634</td>\n",
       "      <td>78</td>\n",
       "      <td>104</td>\n",
       "      <td>78</td>\n",
       "      <td>159</td>\n",
       "      <td>115</td>\n",
       "      <td>100</td>\n",
       "      <td>1</td>\n",
       "      <td>False</td>\n",
       "    </tr>\n",
       "    <tr>\n",
       "      <th>9</th>\n",
       "      <td>7</td>\n",
       "      <td>Squirtle</td>\n",
       "      <td>Water</td>\n",
       "      <td>NaN</td>\n",
       "      <td>314</td>\n",
       "      <td>44</td>\n",
       "      <td>48</td>\n",
       "      <td>65</td>\n",
       "      <td>50</td>\n",
       "      <td>64</td>\n",
       "      <td>43</td>\n",
       "      <td>1</td>\n",
       "      <td>False</td>\n",
       "    </tr>\n",
       "  </tbody>\n",
       "</table>\n",
       "</div>"
      ],
      "text/plain": [
       "   #                       Name Type 1  Type 2  Total  HP  Attack  Defense  \\\n",
       "0  1                  Bulbasaur  Grass  Poison    318  45      49       49   \n",
       "1  2                    Ivysaur  Grass  Poison    405  60      62       63   \n",
       "2  3                   Venusaur  Grass  Poison    525  80      82       83   \n",
       "3  3      VenusaurMega Venusaur  Grass  Poison    625  80     100      123   \n",
       "4  4                 Charmander   Fire     NaN    309  39      52       43   \n",
       "5  5                 Charmeleon   Fire     NaN    405  58      64       58   \n",
       "6  6                  Charizard   Fire  Flying    534  78      84       78   \n",
       "7  6  CharizardMega Charizard X   Fire  Dragon    634  78     130      111   \n",
       "8  6  CharizardMega Charizard Y   Fire  Flying    634  78     104       78   \n",
       "9  7                   Squirtle  Water     NaN    314  44      48       65   \n",
       "\n",
       "   Sp. Atk  Sp. Def  Speed  Generation  Legendary  \n",
       "0       65       65     45           1      False  \n",
       "1       80       80     60           1      False  \n",
       "2      100      100     80           1      False  \n",
       "3      122      120     80           1      False  \n",
       "4       60       50     65           1      False  \n",
       "5       80       65     80           1      False  \n",
       "6      109       85    100           1      False  \n",
       "7      130       85    100           1      False  \n",
       "8      159      115    100           1      False  \n",
       "9       50       64     43           1      False  "
      ]
     },
     "execution_count": 2,
     "metadata": {},
     "output_type": "execute_result"
    }
   ],
   "source": [
    "''' reading dataset '''\n",
    "df = pd.read_csv(\"pokemon.csv\")\n",
    "\n",
    "''' displaying first 10 rows of dataset '''\n",
    "df.head(10)"
   ]
  },
  {
   "cell_type": "code",
   "execution_count": 3,
   "id": "5f9c3aec",
   "metadata": {
    "execution": {
     "iopub.execute_input": "2021-06-21T02:28:16.933084Z",
     "iopub.status.busy": "2021-06-21T02:28:16.932466Z",
     "iopub.status.idle": "2021-06-21T02:28:16.952211Z",
     "shell.execute_reply": "2021-06-21T02:28:16.952693Z",
     "shell.execute_reply.started": "2021-06-21T02:27:47.089037Z"
    },
    "papermill": {
     "duration": 0.037871,
     "end_time": "2021-06-21T02:28:16.952859",
     "exception": false,
     "start_time": "2021-06-21T02:28:16.914988",
     "status": "completed"
    },
    "tags": []
   },
   "outputs": [
    {
     "name": "stdout",
     "output_type": "stream",
     "text": [
      "<class 'pandas.core.frame.DataFrame'>\n",
      "RangeIndex: 800 entries, 0 to 799\n",
      "Data columns (total 13 columns):\n",
      " #   Column      Non-Null Count  Dtype \n",
      "---  ------      --------------  ----- \n",
      " 0   #           800 non-null    int64 \n",
      " 1   Name        800 non-null    object\n",
      " 2   Type 1      800 non-null    object\n",
      " 3   Type 2      414 non-null    object\n",
      " 4   Total       800 non-null    int64 \n",
      " 5   HP          800 non-null    int64 \n",
      " 6   Attack      800 non-null    int64 \n",
      " 7   Defense     800 non-null    int64 \n",
      " 8   Sp. Atk     800 non-null    int64 \n",
      " 9   Sp. Def     800 non-null    int64 \n",
      " 10  Speed       800 non-null    int64 \n",
      " 11  Generation  800 non-null    int64 \n",
      " 12  Legendary   800 non-null    bool  \n",
      "dtypes: bool(1), int64(9), object(3)\n",
      "memory usage: 75.9+ KB\n"
     ]
    }
   ],
   "source": [
    "''' checking info of data '''\n",
    "df.info()"
   ]
  },
  {
   "cell_type": "code",
   "execution_count": 4,
   "id": "487db7e0",
   "metadata": {
    "execution": {
     "iopub.execute_input": "2021-06-21T02:28:16.987686Z",
     "iopub.status.busy": "2021-06-21T02:28:16.987082Z",
     "iopub.status.idle": "2021-06-21T02:28:16.991674Z",
     "shell.execute_reply": "2021-06-21T02:28:16.992271Z",
     "shell.execute_reply.started": "2021-06-21T02:27:47.104899Z"
    },
    "papermill": {
     "duration": 0.023482,
     "end_time": "2021-06-21T02:28:16.992447",
     "exception": false,
     "start_time": "2021-06-21T02:28:16.968965",
     "status": "completed"
    },
    "tags": []
   },
   "outputs": [
    {
     "data": {
      "text/html": [
       "<div>\n",
       "<style scoped>\n",
       "    .dataframe tbody tr th:only-of-type {\n",
       "        vertical-align: middle;\n",
       "    }\n",
       "\n",
       "    .dataframe tbody tr th {\n",
       "        vertical-align: top;\n",
       "    }\n",
       "\n",
       "    .dataframe thead th {\n",
       "        text-align: right;\n",
       "    }\n",
       "</style>\n",
       "<table border=\"1\" class=\"dataframe\">\n",
       "  <thead>\n",
       "    <tr style=\"text-align: right;\">\n",
       "      <th></th>\n",
       "      <th>Attack</th>\n",
       "      <th>Defense</th>\n",
       "    </tr>\n",
       "  </thead>\n",
       "  <tbody>\n",
       "    <tr>\n",
       "      <th>0</th>\n",
       "      <td>49</td>\n",
       "      <td>49</td>\n",
       "    </tr>\n",
       "    <tr>\n",
       "      <th>1</th>\n",
       "      <td>62</td>\n",
       "      <td>63</td>\n",
       "    </tr>\n",
       "    <tr>\n",
       "      <th>2</th>\n",
       "      <td>82</td>\n",
       "      <td>83</td>\n",
       "    </tr>\n",
       "    <tr>\n",
       "      <th>3</th>\n",
       "      <td>100</td>\n",
       "      <td>123</td>\n",
       "    </tr>\n",
       "    <tr>\n",
       "      <th>4</th>\n",
       "      <td>52</td>\n",
       "      <td>43</td>\n",
       "    </tr>\n",
       "    <tr>\n",
       "      <th>...</th>\n",
       "      <td>...</td>\n",
       "      <td>...</td>\n",
       "    </tr>\n",
       "    <tr>\n",
       "      <th>795</th>\n",
       "      <td>100</td>\n",
       "      <td>150</td>\n",
       "    </tr>\n",
       "    <tr>\n",
       "      <th>796</th>\n",
       "      <td>160</td>\n",
       "      <td>110</td>\n",
       "    </tr>\n",
       "    <tr>\n",
       "      <th>797</th>\n",
       "      <td>110</td>\n",
       "      <td>60</td>\n",
       "    </tr>\n",
       "    <tr>\n",
       "      <th>798</th>\n",
       "      <td>160</td>\n",
       "      <td>60</td>\n",
       "    </tr>\n",
       "    <tr>\n",
       "      <th>799</th>\n",
       "      <td>110</td>\n",
       "      <td>120</td>\n",
       "    </tr>\n",
       "  </tbody>\n",
       "</table>\n",
       "<p>800 rows × 2 columns</p>\n",
       "</div>"
      ],
      "text/plain": [
       "     Attack  Defense\n",
       "0        49       49\n",
       "1        62       63\n",
       "2        82       83\n",
       "3       100      123\n",
       "4        52       43\n",
       "..      ...      ...\n",
       "795     100      150\n",
       "796     160      110\n",
       "797     110       60\n",
       "798     160       60\n",
       "799     110      120\n",
       "\n",
       "[800 rows x 2 columns]"
      ]
     },
     "execution_count": 4,
     "metadata": {},
     "output_type": "execute_result"
    }
   ],
   "source": [
    "''' taking two rows only '''\n",
    "df_ = df[['Attack','Defense']]\n",
    "df_"
   ]
  },
  {
   "cell_type": "code",
   "execution_count": 5,
   "id": "dd796a87",
   "metadata": {
    "execution": {
     "iopub.execute_input": "2021-06-21T02:28:17.026918Z",
     "iopub.status.busy": "2021-06-21T02:28:17.026258Z",
     "iopub.status.idle": "2021-06-21T02:28:17.064401Z",
     "shell.execute_reply": "2021-06-21T02:28:17.064901Z",
     "shell.execute_reply.started": "2021-06-21T02:27:47.117314Z"
    },
    "papermill": {
     "duration": 0.056811,
     "end_time": "2021-06-21T02:28:17.065085",
     "exception": false,
     "start_time": "2021-06-21T02:28:17.008274",
     "status": "completed"
    },
    "tags": []
   },
   "outputs": [],
   "source": [
    "def do_agglomerative(X, nclust=2):\n",
    "    m = AgglomerativeClustering(n_clusters=nclust,linkage='ward')\n",
    "    cluster_labels = m.fit_predict(X)\n",
    "    return (cluster_labels)\n",
    "\n",
    "''' calling do_agglomeratve function '''\n",
    "cluster_labels = do_agglomerative(df_, 20)\n",
    "agg = pd.DataFrame(cluster_labels,columns=['agglomerative'])\n",
    "df_.insert((df_.shape[1]), 'agglomerative', agg)"
   ]
  },
  {
   "cell_type": "code",
   "execution_count": 6,
   "id": "4516fb93",
   "metadata": {
    "execution": {
     "iopub.execute_input": "2021-06-21T02:28:17.100309Z",
     "iopub.status.busy": "2021-06-21T02:28:17.099677Z",
     "iopub.status.idle": "2021-06-21T02:28:17.115381Z",
     "shell.execute_reply": "2021-06-21T02:28:17.116000Z",
     "shell.execute_reply.started": "2021-06-21T02:27:47.161647Z"
    },
    "papermill": {
     "duration": 0.03517,
     "end_time": "2021-06-21T02:28:17.116181",
     "exception": false,
     "start_time": "2021-06-21T02:28:17.081011",
     "status": "completed"
    },
    "tags": []
   },
   "outputs": [
    {
     "name": "stderr",
     "output_type": "stream",
     "text": [
      "C:\\Users\\Ahmed Ali\\AppData\\Local\\Temp\\ipykernel_18296\\4051820132.py:2: SettingWithCopyWarning: \n",
      "A value is trying to be set on a copy of a slice from a DataFrame.\n",
      "Try using .loc[row_indexer,col_indexer] = value instead\n",
      "\n",
      "See the caveats in the documentation: https://pandas.pydata.org/pandas-docs/stable/user_guide/indexing.html#returning-a-view-versus-a-copy\n",
      "  df__['Name'] = df['Name']\n"
     ]
    },
    {
     "data": {
      "text/html": [
       "<div>\n",
       "<style scoped>\n",
       "    .dataframe tbody tr th:only-of-type {\n",
       "        vertical-align: middle;\n",
       "    }\n",
       "\n",
       "    .dataframe tbody tr th {\n",
       "        vertical-align: top;\n",
       "    }\n",
       "\n",
       "    .dataframe thead th {\n",
       "        text-align: right;\n",
       "    }\n",
       "</style>\n",
       "<table border=\"1\" class=\"dataframe\">\n",
       "  <thead>\n",
       "    <tr style=\"text-align: right;\">\n",
       "      <th></th>\n",
       "      <th>Attack</th>\n",
       "      <th>Defense</th>\n",
       "      <th>agglomerative</th>\n",
       "      <th>Name</th>\n",
       "    </tr>\n",
       "  </thead>\n",
       "  <tbody>\n",
       "    <tr>\n",
       "      <th>0</th>\n",
       "      <td>49</td>\n",
       "      <td>49</td>\n",
       "      <td>9</td>\n",
       "      <td>Bulbasaur</td>\n",
       "    </tr>\n",
       "    <tr>\n",
       "      <th>1</th>\n",
       "      <td>62</td>\n",
       "      <td>63</td>\n",
       "      <td>15</td>\n",
       "      <td>Ivysaur</td>\n",
       "    </tr>\n",
       "    <tr>\n",
       "      <th>2</th>\n",
       "      <td>82</td>\n",
       "      <td>83</td>\n",
       "      <td>2</td>\n",
       "      <td>Venusaur</td>\n",
       "    </tr>\n",
       "    <tr>\n",
       "      <th>3</th>\n",
       "      <td>100</td>\n",
       "      <td>123</td>\n",
       "      <td>7</td>\n",
       "      <td>VenusaurMega Venusaur</td>\n",
       "    </tr>\n",
       "    <tr>\n",
       "      <th>4</th>\n",
       "      <td>52</td>\n",
       "      <td>43</td>\n",
       "      <td>11</td>\n",
       "      <td>Charmander</td>\n",
       "    </tr>\n",
       "    <tr>\n",
       "      <th>...</th>\n",
       "      <td>...</td>\n",
       "      <td>...</td>\n",
       "      <td>...</td>\n",
       "      <td>...</td>\n",
       "    </tr>\n",
       "    <tr>\n",
       "      <th>795</th>\n",
       "      <td>100</td>\n",
       "      <td>150</td>\n",
       "      <td>7</td>\n",
       "      <td>Diancie</td>\n",
       "    </tr>\n",
       "    <tr>\n",
       "      <th>796</th>\n",
       "      <td>160</td>\n",
       "      <td>110</td>\n",
       "      <td>16</td>\n",
       "      <td>DiancieMega Diancie</td>\n",
       "    </tr>\n",
       "    <tr>\n",
       "      <th>797</th>\n",
       "      <td>110</td>\n",
       "      <td>60</td>\n",
       "      <td>10</td>\n",
       "      <td>HoopaHoopa Confined</td>\n",
       "    </tr>\n",
       "    <tr>\n",
       "      <th>798</th>\n",
       "      <td>160</td>\n",
       "      <td>60</td>\n",
       "      <td>13</td>\n",
       "      <td>HoopaHoopa Unbound</td>\n",
       "    </tr>\n",
       "    <tr>\n",
       "      <th>799</th>\n",
       "      <td>110</td>\n",
       "      <td>120</td>\n",
       "      <td>7</td>\n",
       "      <td>Volcanion</td>\n",
       "    </tr>\n",
       "  </tbody>\n",
       "</table>\n",
       "<p>800 rows × 4 columns</p>\n",
       "</div>"
      ],
      "text/plain": [
       "     Attack  Defense  agglomerative                   Name\n",
       "0        49       49              9              Bulbasaur\n",
       "1        62       63             15                Ivysaur\n",
       "2        82       83              2               Venusaur\n",
       "3       100      123              7  VenusaurMega Venusaur\n",
       "4        52       43             11             Charmander\n",
       "..      ...      ...            ...                    ...\n",
       "795     100      150              7                Diancie\n",
       "796     160      110             16    DiancieMega Diancie\n",
       "797     110       60             10    HoopaHoopa Confined\n",
       "798     160       60             13     HoopaHoopa Unbound\n",
       "799     110      120              7              Volcanion\n",
       "\n",
       "[800 rows x 4 columns]"
      ]
     },
     "execution_count": 6,
     "metadata": {},
     "output_type": "execute_result"
    }
   ],
   "source": [
    "df__ = df_\n",
    "df__['Name'] = df['Name']\n",
    "df__"
   ]
  },
  {
   "cell_type": "code",
   "execution_count": 7,
   "id": "a2127159",
   "metadata": {
    "execution": {
     "iopub.execute_input": "2021-06-21T02:28:17.151942Z",
     "iopub.status.busy": "2021-06-21T02:28:17.151306Z",
     "iopub.status.idle": "2021-06-21T02:28:17.196140Z",
     "shell.execute_reply": "2021-06-21T02:28:17.195435Z",
     "shell.execute_reply.started": "2021-06-21T02:27:47.184720Z"
    },
    "papermill": {
     "duration": 0.063697,
     "end_time": "2021-06-21T02:28:17.196292",
     "exception": false,
     "start_time": "2021-06-21T02:28:17.132595",
     "status": "completed"
    },
    "tags": []
   },
   "outputs": [
    {
     "name": "stdout",
     "output_type": "stream",
     "text": [
      "[ Agglomerative 0 ]\n",
      "['Metapod', 'Spoink', 'Weedle', 'Spewpa', 'Wingull', 'Combee', 'Cottonee', 'Ralts', 'Blissey', 'Solosis', 'Hoothoot', 'Abra', 'Kricketot', 'Luvdisc', 'Happiny', 'Burmy', 'Slugma', 'Pichu', 'Azurill', 'Kakuna', 'Petilil', 'Tentacool', 'Chingling', 'Cherubi', 'Kirlia', 'Gothita', 'Smoochum', 'Tyrogue', 'Voltorb', 'Caterpie', 'Cascoon', 'Litwick', 'Kadabra', 'Smeargle', 'Zigzagoon', 'Mareep', 'Cleffa', 'Munna', 'Magikarp', 'Chinchou', 'Lotad', 'Igglybuff', 'Vulpix', 'Mime Jr.', 'Scatterbug', 'Togepi', 'Ledian', 'Surskit', 'Jigglypuff', 'Hoppip', 'Chansey', 'Wobbuffet', 'Feebas', 'Flabébé', 'Noibat', 'Marill', 'Silcoon', 'Helioptile', 'Wynaut', 'Ledyba', 'Gastly', 'Mantyke', 'Sunkern', 'Budew', 'Bunnelby']\n",
      "\n",
      "[ Agglomerative 1 ]\n",
      "['AbomasnowMega Abomasnow', 'Gigalith', 'MetagrossMega Metagross', 'Rhydon', 'Rhyperior', 'Tyranitar', 'CharizardMega Charizard X', 'Tyrantrum', 'Kingler', 'TyranitarMega Tyranitar', 'Escavalier', 'GroudonPrimal Groudon', 'Arceus', 'ScizorMega Scizor', 'Golem', 'Donphan', 'SalamenceMega Salamence', 'Groudon', 'Dialga', 'Metagross']\n",
      "\n",
      "[ Agglomerative 2 ]\n",
      "['Ampharos', 'Gorebyss', 'Roggenrola', 'Vespiquen', 'Sandshrew', 'Vileplume', 'ManectricMega Manectric', 'Metang', 'Lapras', 'Lickilicky', 'Phione', 'Serperior', 'Lopunny', 'Politoed', 'Starmie', 'Bonsly', 'Quilladin', 'Beheeyem', 'Raikou', 'Charizard', 'Aromatisse', 'Miltank', 'Dragalge', 'Bellossom', 'Scraggy', 'Alomomola', 'WormadamSandy Cloak', 'Yanmega', 'KeldeoOrdinary Forme', 'KeldeoResolute Forme', 'Slurpuff', 'Latias', 'Noivern', 'Kabuto', 'Aurorus', 'Ninetales', 'Venusaur', 'Sableye', 'Whiscash', 'PidgeotMega Pidgeot', 'Slowking', 'Geodude', 'Golduck', 'Pidgeot', 'Altaria', 'Swalot', 'Porygon2', 'MeloettaAria Forme', 'Tirtouga', 'Meganium', 'Hypno', 'Cradily', 'Clawitzer', 'Rhyhorn', 'Articuno', 'Blastoise', 'Typhlosion', 'Walrein', 'Glalie', 'Vigoroth', 'Hippopotas', 'Honedge', 'Xatu', 'Klefki', 'Dewgong', 'Klang', 'Croconaw']\n",
      "\n",
      "[ Agglomerative 3 ]\n",
      "['Luxray', 'Ho-oh', 'AerodactylMega Aerodactyl', 'CameruptMega Camerupt', 'Gyarados', 'Scizor', 'Garchomp', 'Sawk', 'Heracross', 'GlalieMega Glalie', 'Genesect', 'Kyurem', 'LopunnyMega Lopunny', 'Conkeldurr', 'Ursaring', 'Salamence', 'Kabutops', 'KangaskhanMega Kangaskhan', 'Bisharp', 'Pangoro', 'LucarioMega Lucario', 'Armaldo', 'LandorusIncarnate Forme', 'Dragonite', 'Haxorus', 'Pinsir', 'Rayquaza', 'Golurk', 'Xerneas', 'GiratinaOrigin Forme', 'Braviary', 'Reshiram', 'KyogrePrimal Kyogre', 'Yveltal', 'Mamoswine', 'Breloom', 'Druddigon', 'Machamp', 'Terrakion', 'LandorusTherian Forme', 'Palkia', 'LatiosMega Latios', 'KyuremWhite Kyurem', 'MeloettaPirouette Forme', 'Granbull']\n",
      "\n",
      "[ Agglomerative 4 ]\n",
      "['MedichamMega Medicham', 'Mewtwo', 'DeoxysSpeed Forme', 'Feraligatr', 'Kangaskhan', 'Hitmontop', 'Huntail', 'Poliwrath', 'Mew', 'Empoleon', 'Darkrai', 'Throh', 'Beartic', 'Nidoqueen', 'Arcanine', 'ShayminLand Forme', 'Hawlucha', 'Trevenant', 'AmpharosMega Ampharos', 'Exeggutor', 'HoundoomMega Houndoom', 'Shelgon', 'Scyther', 'Grotle', 'Tyrunt', 'Durant', 'Entei', 'AltariaMega Altaria', 'Zapdos', 'SceptileMega Sceptile', 'Gurdurr', 'Torterra', 'Mawile', 'Boldore', 'Scolipede', 'Malamar', 'Abomasnow', 'Qwilfish', 'Stoutland', 'Moltres', 'Mesprit', 'Samurott', 'Vanilluxe', 'Jirachi', 'Crobat', 'Kingdra', 'Victini', 'Unfezant', 'Seismitoad', 'Kyogre', 'Garbodor', 'Bouffalant', 'Crawdaunt', 'Tauros', 'Celebi', 'Latios', 'Eelektross', 'Quagsire', 'Parasect', 'Solrock', 'Krabby', 'Swampert', 'Hydreigon', 'Krookodile', 'Manaphy']\n",
      "\n",
      "[ Agglomerative 5 ]\n",
      "['Aggron', 'AggronMega Aggron', 'SteelixMega Steelix', 'Cloyster', 'SlowbroMega Slowbro', 'Avalugg', 'Regirock', 'Steelix']\n",
      "\n",
      "[ Agglomerative 6 ]\n",
      "['Bagon', 'Swanna', 'Darumaka', 'Mothim', 'Liepard', 'Sceptile', 'Manectric', 'Pignite', 'Volbeat', 'Anorith', 'Eelektrik', 'Electabuzz', 'Cacnea', 'Grimer', 'Herdier', 'Beedrill', 'GardevoirMega Gardevoir', 'Porygon-Z', 'Gastrodon', 'Purugly', 'Raticate', 'Wailord', 'Ninjask', 'Drilbur', 'Axew', 'Krokorok', 'Nidorino', 'Weepinbell', 'Sneasel', 'Houndoom', 'Pupitar', 'Sunflora', 'Rufflet', 'Kricketune', 'Snubbull', 'Machop', 'Furfrou', 'Drifblim', 'Paras', 'Maractus', 'Murkrow', 'Magmar', 'Dewott', 'Combusken', 'Galvantula', 'Fletchinder', 'Dragonair', 'Amoonguss', 'Munchlax', 'Bibarel', 'Emolga', 'Froslass', 'Raichu', 'Mienfoo', 'Shedinja', 'Aipom', 'Pawniard', 'Corphish', 'Teddiursa', 'Furret', 'Monferno', 'Swellow', 'Arbok', 'Watchog', 'Zweilous', 'Tranquill', 'Luxio', 'Dugtrio', 'Sliggoo', 'Talonflame', 'Timburr', 'Doduo', 'Pancham', 'Ponyta', 'Marshtomp', 'Girafarig', 'Golbat', 'Larvesta']\n",
      "\n",
      "[ Agglomerative 7 ]\n",
      "['Leafeon', 'GourgeistLarge Size', 'Forretress', 'Crustle', 'Spiritomb', 'Drapion', 'Carracosta', 'Volcanion', 'Chesnaught', 'Scrafty', 'Weezing', 'Sudowoodo', 'Barbaracle', 'MawileMega Mawile', 'LatiasMega Latias', 'Diancie', 'BlastoiseMega Blastoise', 'Tangrowth', 'Klinklang', 'Cobalion', 'Dusknoir', 'Hippowdon', 'Bronzong', 'Lairon', 'GourgeistSuper Size', 'Zygarde50% Forme', 'Gliscor', 'VenusaurMega Venusaur', 'Lugia', 'GiratinaAltered Forme', 'Relicanth', 'GourgeistAverage Size', 'Graveler', 'GourgeistSmall Size', 'SableyeMega Sableye', 'Ferrothorn', 'Torkoal', 'Sandslash', 'Skarmory', 'Heatran', 'Doublade']\n",
      "\n",
      "[ Agglomerative 8 ]\n",
      "['ThundurusTherian Forme', 'Kecleon', 'Fearow', 'Leavanny', 'Toxicroak', 'TornadusTherian Forme', 'Camerupt', 'Skuntank', 'Aerodactyl', 'Victreebel', 'Basculin', 'Heatmor', 'Magmortar', 'Simisear', 'Virizion', 'Goodra', 'Mightyena', 'Sawsbuck', 'Piloswine', 'Simisage', 'Nidoking', 'Flygon', 'ShayminSky Forme', 'CharizardMega Charizard Y', 'Floatzel', 'Ambipom', 'Ariados', 'Gogoat', 'Gabite', 'Carnivine', 'Zoroark', 'Infernape', 'Zebstrika', 'Muk', 'Rapidash', 'Stantler', 'Primeape', 'Seviper', 'Exploud', 'Seaking', 'Hitmonchan', 'Machoke', 'Shiftry', 'Simipour', 'Octillery', 'Cinccino', 'Greninja']\n",
      "\n",
      "[ Agglomerative 9 ]\n",
      "['Pachirisu', 'Oddish', 'Clauncher', 'Litleo', 'Chikorita', 'Shroomish', 'Mr. Mime', 'Spritzee', 'Binacle', 'Squirtle', 'Butterfree', 'Bulbasaur', 'Clefairy', 'Jumpluff', 'Minun', 'Illumise', 'Finneon', 'Floette', 'Electrode', 'Gothorita', 'Lunatone', 'Seedot', 'Swirlix', 'Meditite', 'Seel', 'Staryu', 'Baltoy', 'Ducklett', 'Lampent', 'Magnemite', 'Trubbish', 'Swablu', 'Joltik', 'Shellos', 'Espurr', 'Grumpig', 'Lileep', 'Chimecho', 'AlakazamMega Alakazam', 'Venipede', 'Snivy', 'Skiploom', 'Horsea', 'Gulpin', 'Spheal', 'Frillish', 'Klink', 'Nidoran♀', 'Sewaddle', 'Dustox', 'Exeggcute', 'Ditto', 'Mantine', 'Duosion']\n",
      "\n",
      "[ Agglomerative 10 ]\n",
      "['Snorlax', 'TornadusIncarnate Forme', 'Honchkrow', 'Zangoose', 'ThundurusIncarnate Forme', 'Cacturne', 'Hariyama', 'Mienshao', 'Trapinch', 'Blaziken', 'Cranidos', 'HoopaHoopa Confined', 'Archen', 'Flareon', 'Absol', 'Gallade', 'DarmanitanStandard Mode', 'Fraxure', 'Dodrio', 'Hitmonlee', 'Azelf', 'Banette', 'Lucario', 'Staraptor', 'Emboar', 'Excadrill', 'Weavile', 'Electivire', 'Sharpedo']\n",
      "\n",
      "[ Agglomerative 11 ]\n",
      "['Meowth', 'Eevee', 'Heliolisk', 'Nidoran♂', 'Starly', 'Lombre', 'Tympole', 'Foongus', 'Delibird', 'Plusle', 'Jynx', 'Woobat', 'Oshawott', 'Tynamo', 'Froakie', 'Minccino', 'Roselia', 'Panpour', 'Vanillite', 'Wurmple', 'Noctowl', 'Inkay', 'Bidoof', 'Venonat', 'Snorunt', 'Whismur', 'Pidove', 'Fletchling', 'Croagunk', 'Alakazam', 'Swinub', 'Drifloon', 'Fennekin', 'Numel', 'Psyduck', 'Sentret', 'Treecko', 'Vivillon', 'Torchic', 'Natu', 'Chimchar', 'Poliwag', 'Wooper', 'Makuhita', 'Piplup', 'Purrloin', 'Pikachu', 'Patrat', 'Pansage', 'Charmander', 'Diglett', 'Spinarak', 'Barboach', 'Taillow', 'Goomy', 'Poochyena', 'Haunter', 'Houndour', 'Rattata', 'Drowzee', 'Cryogonal', 'Cyndaquil', 'Electrike', 'Spearow', 'Skitty', 'Glameow', 'Pidgey', 'Blitzle', 'Zubat', 'Lillipup', 'Ekans', 'Pansear']\n",
      "\n",
      "[ Agglomerative 12 ]\n",
      "['Shelmet', 'Lickitung', 'Clamperl', 'Medicham', 'DarmanitanZen Mode', 'Azumarill', 'Bergmite', 'Cubone', 'Servine', 'MeowsticMale', 'WormadamPlant Cloak', 'Lilligant', 'Whirlipede', 'Stunfisk', 'Nincada', 'Wartortle', 'Omanyte', 'Regice', 'Bayleef', 'Skorupi', 'Gothitelle', 'Yamask', 'Milotic', 'Whimsicott', 'Pelipper', 'Togetic', 'Beldum', 'Sigilyph', 'Swadloon', 'Tropius', 'Vullaby', 'Corsola', 'GengarMega Gengar', 'Dwebble', 'Pineco', 'Rotom', 'MeowsticFemale', 'Chandelure', 'Diggersby', 'Magneton', 'Bronzor', 'Togekiss', 'Ferroseed', 'Duskull', 'Audino', 'Musharna']\n",
      "\n",
      "[ Agglomerative 13 ]\n",
      "['DeoxysNormal Forme', 'DeoxysAttack Forme', 'Rampardos', 'HoopaHoopa Unbound', 'AegislashBlade Forme', 'MewtwoMega Mewtwo Y', 'BeedrillMega Beedrill', 'AbsolMega Absol', 'SharpedoMega Sharpedo', 'BlazikenMega Blaziken', 'Archeops', 'BanetteMega Banette']\n",
      "\n",
      "[ Agglomerative 14 ]\n",
      "['Umbreon', 'RotomFan Rotom', 'Dusclops', 'Shieldon', 'AudinoMega Audino', 'Mandibuzz', 'Cresselia', 'Omastar', 'Claydol', 'Shellder', 'Magnezone', 'Koffing', 'Seadra', 'Suicune', 'Gligar', 'RotomHeat Rotom', 'Uxie', 'Marowak', 'RotomWash Rotom', 'Slowbro', 'Magcargo', 'RotomFrost Rotom', 'Aron', 'RotomMow Rotom', 'WormadamTrash Cloak', 'Tangela', 'Glaceon']\n",
      "\n",
      "[ Agglomerative 15 ]\n",
      "['Pyroar', 'PumpkabooAverage Size', 'Vanillish', 'Poliwhirl', 'Delcatty', 'Tentacruel', 'Mismagius', 'Venomoth', 'Lumineon', 'Palpitoad', 'Quilava', 'Volcarona', 'Gengar', 'Nidorina', 'PumpkabooLarge Size', 'Charmeleon', 'Ludicolo', 'Prinplup', 'Persian', 'Pidgeotto', 'Elgyem', 'Braixen', 'Lanturn', 'Totodile', 'Skrelp', 'Gloom', 'Slakoth', 'Turtwig', 'Florges', 'Clefable', 'Gardevoir', 'Slowpoke', 'Porygon', 'Masquerain', 'Roserade', 'Vaporeon', 'Cherrim', 'Espeon', 'Ivysaur', 'Swoobat', 'Castform', 'Chespin', 'PumpkabooSmall Size', 'Dunsparce', 'PumpkabooSuper Size', \"Farfetch'd\", 'Jolteon', 'Dedenne', 'Misdreavus', 'Jellicent', 'Phanpy', 'Linoone', 'Reuniclus', 'Sylveon', 'Spinda', 'Delphox', 'Goldeen', 'Sealeo', 'Flaaffy']\n",
      "\n",
      "[ Agglomerative 16 ]\n",
      "['PinsirMega Pinsir', 'DiancieMega Diancie', 'Zekrom', 'SwampertMega Swampert', 'HeracrossMega Heracross', 'Slaking', 'MewtwoMega Mewtwo X', 'GyaradosMega Gyarados', 'Regigigas', 'GalladeMega Gallade', 'RayquazaMega Rayquaza', 'GarchompMega Garchomp', 'KyuremBlack Kyurem']\n",
      "\n",
      "[ Agglomerative 17 ]\n",
      "['Carbink', 'Nosepass', 'Cofagrigus', 'AegislashShield Forme', 'Probopass', 'Registeel', 'Onix', 'DeoxysDefense Forme', 'Bastiodon']\n",
      "\n",
      "[ Agglomerative 18 ]\n",
      "['Shuckle']\n",
      "\n",
      "[ Agglomerative 19 ]\n",
      "['Loudred', 'Elekid', 'Beautifly', 'Karrablast', 'Riolu', 'Vibrava', 'Wailmer', 'Shinx', 'Snover', 'Deino', 'Frogadier', 'Yanma', 'Mudkip', 'Cubchoo', 'Bellsprout', 'Larvitar', 'Remoraid', 'Tepig', 'Skiddo', 'Golett', 'Wigglytuff', 'Phantump', 'Sandile', 'Deerling', 'Amaura', 'Mankey', 'Stunky', 'Shuppet', 'Chatot', 'Buizel', 'Unown', 'Dratini', 'Accelgor', 'Magby', 'Carvanha', 'Buneary', 'Grovyle', 'Growlithe', 'Staravia', 'Gible', 'Nuzleaf', 'Zorua']\n",
      "\n"
     ]
    }
   ],
   "source": [
    "for i in range(20):\n",
    "    n = df__[df__['agglomerative'] == i]['Name'] \n",
    "    print('[ Agglomerative '+str(i)+' ]')\n",
    "    print(list(set(n)))\n",
    "    print()"
   ]
  },
  {
   "cell_type": "code",
   "execution_count": 8,
   "id": "a3a2cede",
   "metadata": {
    "execution": {
     "iopub.execute_input": "2021-06-21T02:28:17.246394Z",
     "iopub.status.busy": "2021-06-21T02:28:17.245657Z",
     "iopub.status.idle": "2021-06-21T02:28:17.248849Z",
     "shell.execute_reply": "2021-06-21T02:28:17.249388Z",
     "shell.execute_reply.started": "2021-06-21T02:27:47.214515Z"
    },
    "papermill": {
     "duration": 0.036083,
     "end_time": "2021-06-21T02:28:17.249563",
     "exception": false,
     "start_time": "2021-06-21T02:28:17.213480",
     "status": "completed"
    },
    "tags": []
   },
   "outputs": [
    {
     "data": {
      "text/html": [
       "<div>\n",
       "<style scoped>\n",
       "    .dataframe tbody tr th:only-of-type {\n",
       "        vertical-align: middle;\n",
       "    }\n",
       "\n",
       "    .dataframe tbody tr th {\n",
       "        vertical-align: top;\n",
       "    }\n",
       "\n",
       "    .dataframe thead th {\n",
       "        text-align: right;\n",
       "    }\n",
       "</style>\n",
       "<table border=\"1\" class=\"dataframe\">\n",
       "  <thead>\n",
       "    <tr style=\"text-align: right;\">\n",
       "      <th></th>\n",
       "      <th>Attack</th>\n",
       "      <th>Defense</th>\n",
       "    </tr>\n",
       "    <tr>\n",
       "      <th>agglomerative</th>\n",
       "      <th></th>\n",
       "      <th></th>\n",
       "    </tr>\n",
       "  </thead>\n",
       "  <tbody>\n",
       "    <tr>\n",
       "      <th>0</th>\n",
       "      <td>28.769231</td>\n",
       "      <td>38.123077</td>\n",
       "    </tr>\n",
       "    <tr>\n",
       "      <th>1</th>\n",
       "      <td>136.800000</td>\n",
       "      <td>126.750000</td>\n",
       "    </tr>\n",
       "    <tr>\n",
       "      <th>2</th>\n",
       "      <td>77.970149</td>\n",
       "      <td>86.179104</td>\n",
       "    </tr>\n",
       "    <tr>\n",
       "      <th>3</th>\n",
       "      <td>128.711111</td>\n",
       "      <td>89.400000</td>\n",
       "    </tr>\n",
       "    <tr>\n",
       "      <th>4</th>\n",
       "      <td>100.246154</td>\n",
       "      <td>89.061538</td>\n",
       "    </tr>\n",
       "    <tr>\n",
       "      <th>5</th>\n",
       "      <td>105.875000</td>\n",
       "      <td>198.000000</td>\n",
       "    </tr>\n",
       "    <tr>\n",
       "      <th>6</th>\n",
       "      <td>82.961538</td>\n",
       "      <td>56.871795</td>\n",
       "    </tr>\n",
       "    <tr>\n",
       "      <th>7</th>\n",
       "      <td>96.585366</td>\n",
       "      <td>124.390244</td>\n",
       "    </tr>\n",
       "    <tr>\n",
       "      <th>8</th>\n",
       "      <td>98.851064</td>\n",
       "      <td>68.212766</td>\n",
       "    </tr>\n",
       "    <tr>\n",
       "      <th>9</th>\n",
       "      <td>45.851852</td>\n",
       "      <td>59.648148</td>\n",
       "    </tr>\n",
       "    <tr>\n",
       "      <th>10</th>\n",
       "      <td>119.655172</td>\n",
       "      <td>60.758621</td>\n",
       "    </tr>\n",
       "    <tr>\n",
       "      <th>11</th>\n",
       "      <td>52.402778</td>\n",
       "      <td>41.027778</td>\n",
       "    </tr>\n",
       "    <tr>\n",
       "      <th>12</th>\n",
       "      <td>53.804348</td>\n",
       "      <td>85.739130</td>\n",
       "    </tr>\n",
       "    <tr>\n",
       "      <th>13</th>\n",
       "      <td>155.000000</td>\n",
       "      <td>58.333333</td>\n",
       "    </tr>\n",
       "    <tr>\n",
       "      <th>14</th>\n",
       "      <td>65.777778</td>\n",
       "      <td>110.703704</td>\n",
       "    </tr>\n",
       "    <tr>\n",
       "      <th>15</th>\n",
       "      <td>63.915254</td>\n",
       "      <td>63.966102</td>\n",
       "    </tr>\n",
       "    <tr>\n",
       "      <th>16</th>\n",
       "      <td>165.384615</td>\n",
       "      <td>108.000000</td>\n",
       "    </tr>\n",
       "    <tr>\n",
       "      <th>17</th>\n",
       "      <td>54.666667</td>\n",
       "      <td>151.444444</td>\n",
       "    </tr>\n",
       "    <tr>\n",
       "      <th>18</th>\n",
       "      <td>10.000000</td>\n",
       "      <td>230.000000</td>\n",
       "    </tr>\n",
       "    <tr>\n",
       "      <th>19</th>\n",
       "      <td>68.714286</td>\n",
       "      <td>43.047619</td>\n",
       "    </tr>\n",
       "  </tbody>\n",
       "</table>\n",
       "</div>"
      ],
      "text/plain": [
       "                   Attack     Defense\n",
       "agglomerative                        \n",
       "0               28.769231   38.123077\n",
       "1              136.800000  126.750000\n",
       "2               77.970149   86.179104\n",
       "3              128.711111   89.400000\n",
       "4              100.246154   89.061538\n",
       "5              105.875000  198.000000\n",
       "6               82.961538   56.871795\n",
       "7               96.585366  124.390244\n",
       "8               98.851064   68.212766\n",
       "9               45.851852   59.648148\n",
       "10             119.655172   60.758621\n",
       "11              52.402778   41.027778\n",
       "12              53.804348   85.739130\n",
       "13             155.000000   58.333333\n",
       "14              65.777778  110.703704\n",
       "15              63.915254   63.966102\n",
       "16             165.384615  108.000000\n",
       "17              54.666667  151.444444\n",
       "18              10.000000  230.000000\n",
       "19              68.714286   43.047619"
      ]
     },
     "execution_count": 8,
     "metadata": {},
     "output_type": "execute_result"
    }
   ],
   "source": [
    "df__.groupby('agglomerative').mean()"
   ]
  },
  {
   "cell_type": "code",
   "execution_count": 9,
   "id": "9042cdd1",
   "metadata": {
    "execution": {
     "iopub.execute_input": "2021-06-21T02:28:17.288597Z",
     "iopub.status.busy": "2021-06-21T02:28:17.287873Z",
     "iopub.status.idle": "2021-06-21T02:28:17.665720Z",
     "shell.execute_reply": "2021-06-21T02:28:17.666231Z",
     "shell.execute_reply.started": "2021-06-21T02:27:47.229780Z"
    },
    "papermill": {
     "duration": 0.398892,
     "end_time": "2021-06-21T02:28:17.666404",
     "exception": false,
     "start_time": "2021-06-21T02:28:17.267512",
     "status": "completed"
    },
    "tags": []
   },
   "outputs": [
    {
     "data": {
      "text/plain": [
       "<matplotlib.colorbar.Colorbar at 0x2cadd3d3340>"
      ]
     },
     "execution_count": 9,
     "metadata": {},
     "output_type": "execute_result"
    },
    {
     "data": {
      "image/png": "[encoded data removed]",
      "text/plain": [
       "<Figure size 640x480 with 2 Axes>"
      ]
     },
     "metadata": {},
     "output_type": "display_data"
    }
   ],
   "source": [
    "''' plotting scatter plot'''\n",
    "figure = plt.figure()\n",
    "ax = figure.add_subplot(111)\n",
    "sc = ax.scatter(df__['Attack'], df__['Defense'], c=df__['agglomerative'], s=50)\n",
    "ax.set_title('Agglomerative Clustering')\n",
    "ax.set_xlabel('Attack')\n",
    "ax.set_ylabel('Defense')\n",
    "plt.rcParams['figure.figsize'] = (6,5)\n",
    "plt.colorbar(sc)"
   ]
  },
  {
   "cell_type": "code",
   "execution_count": 10,
   "id": "0e719e4c",
   "metadata": {
    "execution": {
     "iopub.execute_input": "2021-06-21T02:28:17.747388Z",
     "iopub.status.busy": "2021-06-21T02:28:17.746728Z",
     "iopub.status.idle": "2021-06-21T02:28:17.753102Z",
     "shell.execute_reply": "2021-06-21T02:28:17.753634Z",
     "shell.execute_reply.started": "2021-06-21T02:27:47.468271Z"
    },
    "papermill": {
     "duration": 0.028807,
     "end_time": "2021-06-21T02:28:17.753814",
     "exception": false,
     "start_time": "2021-06-21T02:28:17.725007",
     "status": "completed"
    },
    "tags": []
   },
   "outputs": [
    {
     "name": "stdout",
     "output_type": "stream",
     "text": [
      "['Beedrill', 'Raticate', 'Arbok', 'Raichu', 'Nidorino', 'Golbat', 'Paras', 'Dugtrio', 'Machop', 'Weepinbell', 'Ponyta', 'Doduo', 'Grimer', 'Electabuzz', 'Magmar', 'Dragonair', 'Furret', 'Aipom', 'Sunflora', 'Murkrow', 'Girafarig', 'Snubbull', 'Sneasel', 'Teddiursa', 'Houndoom', 'Pupitar', 'Sceptile', 'Combusken', 'Marshtomp', 'Swellow', 'GardevoirMega Gardevoir', 'Ninjask', 'Shedinja', 'Manectric', 'Volbeat', 'Wailord', 'Cacnea', 'Corphish', 'Anorith', 'Bagon', 'Monferno', 'Bibarel', 'Kricketune', 'Luxio', 'Mothim', 'Gastrodon', 'Drifblim', 'Purugly', 'Munchlax', 'Porygon-Z', 'Froslass', 'Pignite', 'Dewott', 'Watchog', 'Herdier', 'Liepard', 'Tranquill', 'Drilbur', 'Timburr', 'Krokorok', 'Darumaka', 'Maractus', 'Swanna', 'Emolga', 'Amoonguss', 'Galvantula', 'Eelektrik', 'Axew', 'Mienfoo', 'Pawniard', 'Rufflet', 'Zweilous', 'Larvesta', 'Fletchinder', 'Talonflame', 'Pancham', 'Furfrou', 'Sliggoo']\n"
     ]
    }
   ],
   "source": [
    "'''Group of attack ability max'''\n",
    "names = df__[df__['agglomerative']==6]['Name']\n",
    "print(list(names))"
   ]
  },
  {
   "cell_type": "code",
   "execution_count": 11,
   "id": "b50781c4",
   "metadata": {
    "execution": {
     "iopub.execute_input": "2021-06-21T02:28:17.796878Z",
     "iopub.status.busy": "2021-06-21T02:28:17.796237Z",
     "iopub.status.idle": "2021-06-21T02:28:17.803310Z",
     "shell.execute_reply": "2021-06-21T02:28:17.803981Z",
     "shell.execute_reply.started": "2021-06-21T02:27:47.476779Z"
    },
    "papermill": {
     "duration": 0.03041,
     "end_time": "2021-06-21T02:28:17.804238",
     "exception": false,
     "start_time": "2021-06-21T02:28:17.773828",
     "status": "completed"
    },
    "tags": []
   },
   "outputs": [
    {
     "name": "stdout",
     "output_type": "stream",
     "text": [
      "['bagon.png', 'swanna.png', 'darumaka.png', 'mothim.png', 'liepard.png', 'sceptile.png', 'manectric.png', 'pignite.png', 'volbeat.png', 'anorith.png', 'eelektrik.png', 'electabuzz.png', 'cacnea.png', 'grimer.png', 'herdier.png', 'beedrill.png', 'gardevoirmega gardevoir.png', 'porygon-z.png', 'gastrodon.png', 'purugly.png', 'raticate.png', 'wailord.png', 'ninjask.png', 'drilbur.png', 'axew.png', 'krokorok.png', 'nidorino.png', 'weepinbell.png', 'sneasel.png', 'houndoom.png', 'pupitar.png', 'sunflora.png', 'rufflet.png', 'kricketune.png', 'snubbull.png', 'machop.png', 'furfrou.png', 'drifblim.png', 'paras.png', 'maractus.png', 'murkrow.png', 'magmar.png', 'dewott.png', 'combusken.png', 'galvantula.png', 'fletchinder.png', 'dragonair.png', 'amoonguss.png', 'munchlax.png', 'bibarel.png', 'emolga.png', 'froslass.png', 'raichu.png', 'mienfoo.png', 'shedinja.png', 'aipom.png', 'pawniard.png', 'corphish.png', 'teddiursa.png', 'furret.png', 'monferno.png', 'swellow.png', 'arbok.png', 'watchog.png', 'zweilous.png', 'tranquill.png', 'luxio.png', 'dugtrio.png', 'sliggoo.png', 'talonflame.png', 'timburr.png', 'doduo.png', 'pancham.png', 'ponyta.png', 'marshtomp.png', 'girafarig.png', 'golbat.png', 'larvesta.png']\n",
      "78\n"
     ]
    }
   ],
   "source": [
    "f = []\n",
    "for i in set(names):\n",
    "    f += [i.lower() + '.png']\n",
    "print(f)\n",
    "print(len(f))"
   ]
  },
  {
   "cell_type": "code",
   "execution_count": 12,
   "id": "43e59609",
   "metadata": {
    "execution": {
     "iopub.execute_input": "2021-06-21T02:28:17.849694Z",
     "iopub.status.busy": "2021-06-21T02:28:17.848913Z",
     "iopub.status.idle": "2021-06-21T02:28:17.851468Z",
     "shell.execute_reply": "2021-06-21T02:28:17.851927Z",
     "shell.execute_reply.started": "2021-06-21T02:27:47.487740Z"
    },
    "papermill": {
     "duration": 0.027315,
     "end_time": "2021-06-21T02:28:17.852137",
     "exception": false,
     "start_time": "2021-06-21T02:28:17.824822",
     "status": "completed"
    },
    "tags": []
   },
   "outputs": [],
   "source": [
    "''' directory path '''\n",
    "img_path =r'C:\\Users\\Ahmed Ali\\OneDrive\\Desktop\\data science notes\\DL projects\\Pokemon Generation Clustering\\images\\images'"
   ]
  },
  {
   "cell_type": "code",
   "execution_count": 26,
   "id": "73a3d6d2",
   "metadata": {
    "execution": {
     "iopub.execute_input": "2021-06-21T02:28:17.920011Z",
     "iopub.status.busy": "2021-06-21T02:28:17.915327Z",
     "iopub.status.idle": "2021-06-21T02:28:18.011363Z",
     "shell.execute_reply": "2021-06-21T02:28:18.010727Z",
     "shell.execute_reply.started": "2021-06-21T02:27:47.496996Z"
    },
    "papermill": {
     "duration": 0.139185,
     "end_time": "2021-06-21T02:28:18.011509",
     "exception": false,
     "start_time": "2021-06-21T02:28:17.872324",
     "status": "completed"
    },
    "tags": []
   },
   "outputs": [
    {
     "data": {
      "image/png": "[encoded data removed]",
      "text/plain": [
       "<Figure size 500x500 with 1 Axes>"
      ]
     },
     "metadata": {},
     "output_type": "display_data"
    }
   ],
   "source": [
    "''' plotting 1st image '''\n",
    "files = os.listdir(img_path)\n",
    "\n",
    "# Select the index of the second image (index 1, since indexing starts at 0)\n",
    "i = 0\n",
    "\n",
    "# Read the image using cv2\n",
    "img = cv2.imread(os.path.join(img_path, files[i]))\n",
    "\n",
    "# Check if image is loaded properly\n",
    "if img is not None:\n",
    "    # Convert image from BGR to RGB\n",
    "    img_rgb = cv2.cvtColor(img, cv2.COLOR_BGR2RGB)\n",
    "    \n",
    "    # Create a Matplotlib figure and axis\n",
    "    f, ax = plt.subplots(1, 1, figsize=(5, 5))\n",
    "    \n",
    "    # Display the image using Matplotlib\n",
    "    ax.imshow(img_rgb)\n",
    "    ax.set_xticks([])\n",
    "    ax.set_yticks([])\n",
    "    ax.set_title(files[j])\n",
    "    \n",
    "    plt.show()\n",
    "else:\n",
    "    print(f\"Failed to load image: {files[j]}\")"
   ]
  },
  {
   "cell_type": "code",
   "execution_count": 14,
   "id": "26355e91",
   "metadata": {
    "execution": {
     "iopub.execute_input": "2021-06-21T02:28:18.105750Z",
     "iopub.status.busy": "2021-06-21T02:28:18.105052Z",
     "iopub.status.idle": "2021-06-21T02:28:18.108791Z",
     "shell.execute_reply": "2021-06-21T02:28:18.108138Z",
     "shell.execute_reply.started": "2021-06-21T02:27:47.590255Z"
    },
    "papermill": {
     "duration": 0.031675,
     "end_time": "2021-06-21T02:28:18.108929",
     "exception": false,
     "start_time": "2021-06-21T02:28:18.077254",
     "status": "completed"
    },
    "tags": []
   },
   "outputs": [
    {
     "name": "stdout",
     "output_type": "stream",
     "text": [
      "['Onix', 'Nosepass', 'Registeel', 'DeoxysDefense Forme', 'Bastiodon', 'Probopass', 'Cofagrigus', 'AegislashShield Forme', 'Carbink']\n"
     ]
    }
   ],
   "source": [
    "''' Group of attack ability min '''\n",
    "names2 = df__[df__['agglomerative'] == 17]['Name']\n",
    "print(list(names2))"
   ]
  },
  {
   "cell_type": "code",
   "execution_count": 15,
   "id": "f19ffac7",
   "metadata": {
    "execution": {
     "iopub.execute_input": "2021-06-21T02:28:18.159873Z",
     "iopub.status.busy": "2021-06-21T02:28:18.159228Z",
     "iopub.status.idle": "2021-06-21T02:28:18.162805Z",
     "shell.execute_reply": "2021-06-21T02:28:18.163325Z",
     "shell.execute_reply.started": "2021-06-21T02:27:47.598956Z"
    },
    "papermill": {
     "duration": 0.031996,
     "end_time": "2021-06-21T02:28:18.163491",
     "exception": false,
     "start_time": "2021-06-21T02:28:18.131495",
     "status": "completed"
    },
    "tags": []
   },
   "outputs": [
    {
     "name": "stdout",
     "output_type": "stream",
     "text": [
      "['carbink.png', 'nosepass.png', 'cofagrigus.png', 'aegislashshield forme.png', 'probopass.png', 'registeel.png', 'onix.png', 'deoxysdefense forme.png', 'bastiodon.png']\n",
      "9\n"
     ]
    }
   ],
   "source": [
    "f2=[]\n",
    "for i in set(names2):\n",
    "    f2 += [i.lower() + '.png']\n",
    "    \n",
    "print(f2)\n",
    "print(len(f2))"
   ]
  },
  {
   "cell_type": "code",
   "execution_count": 16,
   "id": "03937929",
   "metadata": {
    "execution": {
     "iopub.execute_input": "2021-06-21T02:28:18.236383Z",
     "iopub.status.busy": "2021-06-21T02:28:18.235687Z",
     "iopub.status.idle": "2021-06-21T02:28:18.301269Z",
     "shell.execute_reply": "2021-06-21T02:28:18.300325Z",
     "shell.execute_reply.started": "2021-06-21T02:27:47.609421Z"
    },
    "papermill": {
     "duration": 0.115434,
     "end_time": "2021-06-21T02:28:18.301414",
     "exception": false,
     "start_time": "2021-06-21T02:28:18.185980",
     "status": "completed"
    },
    "tags": []
   },
   "outputs": [
    {
     "data": {
      "image/png": "[encoded data removed]",
      "text/plain": [
       "<Figure size 500x500 with 1 Axes>"
      ]
     },
     "metadata": {},
     "output_type": "display_data"
    }
   ],
   "source": [
    "''' plotting 2nd image '''\n",
    "\n",
    "# List all files in img_path\n",
    "files = os.listdir(img_path)\n",
    "\n",
    "# Select the index of the second image (index 1, since indexing starts at 0)\n",
    "j = 1\n",
    "\n",
    "# Read the image using cv2\n",
    "img = cv2.imread(os.path.join(img_path, files[j]))\n",
    "\n",
    "# Check if image is loaded properly\n",
    "if img is not None:\n",
    "    # Convert image from BGR to RGB\n",
    "    img_rgb = cv2.cvtColor(img, cv2.COLOR_BGR2RGB)\n",
    "    \n",
    "    # Create a Matplotlib figure and axis\n",
    "    f, ax = plt.subplots(1, 1, figsize=(5, 5))\n",
    "    \n",
    "    # Display the image using Matplotlib\n",
    "    ax.imshow(img_rgb)\n",
    "    ax.set_xticks([])\n",
    "    ax.set_yticks([])\n",
    "    ax.set_title(files[j])\n",
    "    \n",
    "    plt.show()\n",
    "else:\n",
    "    print(f\"Failed to load image: {files[j]}\")\n"
   ]
  },
  {
   "cell_type": "code",
   "execution_count": null,
   "id": "03363515",
   "metadata": {},
   "outputs": [],
   "source": []
  },
  {
   "cell_type": "code",
   "execution_count": null,
   "id": "bb292212",
   "metadata": {},
   "outputs": [],
   "source": []
  }
 ],
 "metadata": {
  "kernelspec": {
   "display_name": "Python 3 (ipykernel)",
   "language": "python",
   "name": "python3"
  },
  "language_info": {
   "codemirror_mode": {
    "name": "ipython",
    "version": 3
   },
   "file_extension": ".py",
   "mimetype": "text/x-python",
   "name": "python",
   "nbconvert_exporter": "python",
   "pygments_lexer": "ipython3",
   "version": "3.10.9"
  },
  "papermill": {
   "default_parameters": {},
   "duration": 11.344277,
   "end_time": "2021-06-21T02:28:19.034922",
   "environment_variables": {},
   "exception": null,
   "input_path": "__notebook__.ipynb",
   "output_path": "__notebook__.ipynb",
   "parameters": {},
   "start_time": "2021-06-21T02:28:07.690645",
   "version": "2.3.3"
  }
 },
 "nbformat": 4,
 "nbformat_minor": 5
}
